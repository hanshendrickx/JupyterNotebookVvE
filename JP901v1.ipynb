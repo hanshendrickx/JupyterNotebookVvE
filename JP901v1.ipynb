{
 "cells": [
  {
   "cell_type": "markdown",
   "id": "a9087dd7-ab32-49ca-890f-9609327eac55",
   "metadata": {},
   "source": [
    "### Dit is Anaconda-envs JP901-Jupyter Lab-JP901v1.ipynb VvE data\n",
    "2023 VIII V1"
   ]
  },
  {
   "cell_type": "code",
   "execution_count": 6,
   "id": "f4d7a6ae-a222-4b65-b47b-fd393357b2c7",
   "metadata": {},
   "outputs": [
    {
     "name": "stdout",
     "output_type": "stream",
     "text": [
      "The yearly increase rate (DY2010) from 2000 to 2010 is: 1.67261258%\n",
      "      Jaar Bijdragen/J\n",
      "2000  2000   79 366,00\n",
      "2001  2001   80 693,49\n",
      "2002  2002   82 043,18\n",
      "2003  2003   83 415,44\n",
      "2004  2004   84 810,66\n",
      "2005  2005   86 229,21\n",
      "2006  2006   87 671,49\n",
      "2007  2007   89 137,90\n",
      "2008  2008   90 628,83\n",
      "2009  2009   92 144,70\n",
      "2010  2010   93 685,92\n",
      "2011  2011   95 252,92\n",
      "2012  2012   96 846,13\n",
      "2013  2013   98 466,00\n",
      "2014  2014  100 112,95\n",
      "2015  2015  101 787,45\n",
      "2016  2016  103 489,96\n",
      "2017  2017  105 220,95\n",
      "2018  2018  106 980,89\n",
      "2019  2019  108 770,26\n",
      "2020  2020  110 589,57\n",
      "2021  2021  112 439,30\n",
      "2022  2022  114 319,98\n",
      "2023  2023  116 232,11\n",
      "2024  2024  118 176,22\n",
      "2025  2025  120 152,85\n",
      "2026  2026  122 162,54\n",
      "2027  2027  124 205,85\n",
      "2028  2028  126 283,33\n",
      "2029  2029  128 395,56\n",
      "2030  2030  130 543,12\n",
      "2031  2031  132 726,60\n",
      "2032  2032  134 946,60\n",
      "2033  2033  137 203,74\n",
      "2034  2034  139 498,62\n"
     ]
    },
    {
     "name": "stdin",
     "output_type": "stream",
     "text": [
      "Please set the y-axis tick interval (20000, 25000 or 500000):  20000\n",
      "Please set the plot width between 1000 and 2000:  1300\n"
     ]
    },
    {
     "data": {
      "application/vnd.plotly.v1+json": {
       "config": {
        "plotlyServerURL": "https://plot.ly"
       },
       "data": [
        {
         "hovertemplate": "%{y:,.0f} EUR<extra></extra>",
         "line": {
          "color": "blue",
          "width": 2
         },
         "marker": {
          "color": "blue",
          "size": 5
         },
         "mode": "lines+markers",
         "name": "Bijdragen/J",
         "type": "scatter",
         "x": [
          2000,
          2001,
          2002,
          2003,
          2004,
          2005,
          2006,
          2007,
          2008,
          2009,
          2010,
          2011,
          2012,
          2013,
          2014,
          2015,
          2016,
          2017,
          2018,
          2019,
          2020,
          2021,
          2022,
          2023,
          2024,
          2025,
          2026,
          2027,
          2028,
          2029,
          2030,
          2031,
          2032,
          2033,
          2034
         ],
         "y": [
          79366,
          80693.49,
          82043.18,
          83415.44,
          84810.66,
          86229.21,
          87671.49,
          89137.9,
          90628.83,
          92144.7,
          93685.92,
          95252.92,
          96846.13,
          98466,
          100112.95,
          101787.45,
          103489.96,
          105220.95,
          106980.89,
          108770.26,
          110589.57,
          112439.3,
          114319.98,
          116232.11,
          118176.22,
          120152.85,
          122162.54,
          124205.85,
          126283.33,
          128395.56,
          130543.12,
          132726.6,
          134946.6,
          137203.74,
          139498.62
         ]
        }
       ],
       "layout": {
        "annotations": [
         {
          "bgcolor": "rgba(0, 0, 0, 0)",
          "font": {
           "color": "#000000",
           "size": 12
          },
          "showarrow": false,
          "text": "139,499 EUR",
          "x": 2038,
          "xref": "x",
          "y": 139498.62,
          "yref": "y"
         }
        ],
        "height": 360,
        "hovermode": "x",
        "margin": {
         "b": 0,
         "l": 10,
         "r": 220,
         "t": 40
        },
        "plot_bgcolor": "#F9F9F9",
        "template": {
         "data": {
          "bar": [
           {
            "error_x": {
             "color": "#2a3f5f"
            },
            "error_y": {
             "color": "#2a3f5f"
            },
            "marker": {
             "line": {
              "color": "#E5ECF6",
              "width": 0.5
             },
             "pattern": {
              "fillmode": "overlay",
              "size": 10,
              "solidity": 0.2
             }
            },
            "type": "bar"
           }
          ],
          "barpolar": [
           {
            "marker": {
             "line": {
              "color": "#E5ECF6",
              "width": 0.5
             },
             "pattern": {
              "fillmode": "overlay",
              "size": 10,
              "solidity": 0.2
             }
            },
            "type": "barpolar"
           }
          ],
          "carpet": [
           {
            "aaxis": {
             "endlinecolor": "#2a3f5f",
             "gridcolor": "white",
             "linecolor": "white",
             "minorgridcolor": "white",
             "startlinecolor": "#2a3f5f"
            },
            "baxis": {
             "endlinecolor": "#2a3f5f",
             "gridcolor": "white",
             "linecolor": "white",
             "minorgridcolor": "white",
             "startlinecolor": "#2a3f5f"
            },
            "type": "carpet"
           }
          ],
          "choropleth": [
           {
            "colorbar": {
             "outlinewidth": 0,
             "ticks": ""
            },
            "type": "choropleth"
           }
          ],
          "contour": [
           {
            "colorbar": {
             "outlinewidth": 0,
             "ticks": ""
            },
            "colorscale": [
             [
              0,
              "#0d0887"
             ],
             [
              0.1111111111111111,
              "#46039f"
             ],
             [
              0.2222222222222222,
              "#7201a8"
             ],
             [
              0.3333333333333333,
              "#9c179e"
             ],
             [
              0.4444444444444444,
              "#bd3786"
             ],
             [
              0.5555555555555556,
              "#d8576b"
             ],
             [
              0.6666666666666666,
              "#ed7953"
             ],
             [
              0.7777777777777778,
              "#fb9f3a"
             ],
             [
              0.8888888888888888,
              "#fdca26"
             ],
             [
              1,
              "#f0f921"
             ]
            ],
            "type": "contour"
           }
          ],
          "contourcarpet": [
           {
            "colorbar": {
             "outlinewidth": 0,
             "ticks": ""
            },
            "type": "contourcarpet"
           }
          ],
          "heatmap": [
           {
            "colorbar": {
             "outlinewidth": 0,
             "ticks": ""
            },
            "colorscale": [
             [
              0,
              "#0d0887"
             ],
             [
              0.1111111111111111,
              "#46039f"
             ],
             [
              0.2222222222222222,
              "#7201a8"
             ],
             [
              0.3333333333333333,
              "#9c179e"
             ],
             [
              0.4444444444444444,
              "#bd3786"
             ],
             [
              0.5555555555555556,
              "#d8576b"
             ],
             [
              0.6666666666666666,
              "#ed7953"
             ],
             [
              0.7777777777777778,
              "#fb9f3a"
             ],
             [
              0.8888888888888888,
              "#fdca26"
             ],
             [
              1,
              "#f0f921"
             ]
            ],
            "type": "heatmap"
           }
          ],
          "heatmapgl": [
           {
            "colorbar": {
             "outlinewidth": 0,
             "ticks": ""
            },
            "colorscale": [
             [
              0,
              "#0d0887"
             ],
             [
              0.1111111111111111,
              "#46039f"
             ],
             [
              0.2222222222222222,
              "#7201a8"
             ],
             [
              0.3333333333333333,
              "#9c179e"
             ],
             [
              0.4444444444444444,
              "#bd3786"
             ],
             [
              0.5555555555555556,
              "#d8576b"
             ],
             [
              0.6666666666666666,
              "#ed7953"
             ],
             [
              0.7777777777777778,
              "#fb9f3a"
             ],
             [
              0.8888888888888888,
              "#fdca26"
             ],
             [
              1,
              "#f0f921"
             ]
            ],
            "type": "heatmapgl"
           }
          ],
          "histogram": [
           {
            "marker": {
             "pattern": {
              "fillmode": "overlay",
              "size": 10,
              "solidity": 0.2
             }
            },
            "type": "histogram"
           }
          ],
          "histogram2d": [
           {
            "colorbar": {
             "outlinewidth": 0,
             "ticks": ""
            },
            "colorscale": [
             [
              0,
              "#0d0887"
             ],
             [
              0.1111111111111111,
              "#46039f"
             ],
             [
              0.2222222222222222,
              "#7201a8"
             ],
             [
              0.3333333333333333,
              "#9c179e"
             ],
             [
              0.4444444444444444,
              "#bd3786"
             ],
             [
              0.5555555555555556,
              "#d8576b"
             ],
             [
              0.6666666666666666,
              "#ed7953"
             ],
             [
              0.7777777777777778,
              "#fb9f3a"
             ],
             [
              0.8888888888888888,
              "#fdca26"
             ],
             [
              1,
              "#f0f921"
             ]
            ],
            "type": "histogram2d"
           }
          ],
          "histogram2dcontour": [
           {
            "colorbar": {
             "outlinewidth": 0,
             "ticks": ""
            },
            "colorscale": [
             [
              0,
              "#0d0887"
             ],
             [
              0.1111111111111111,
              "#46039f"
             ],
             [
              0.2222222222222222,
              "#7201a8"
             ],
             [
              0.3333333333333333,
              "#9c179e"
             ],
             [
              0.4444444444444444,
              "#bd3786"
             ],
             [
              0.5555555555555556,
              "#d8576b"
             ],
             [
              0.6666666666666666,
              "#ed7953"
             ],
             [
              0.7777777777777778,
              "#fb9f3a"
             ],
             [
              0.8888888888888888,
              "#fdca26"
             ],
             [
              1,
              "#f0f921"
             ]
            ],
            "type": "histogram2dcontour"
           }
          ],
          "mesh3d": [
           {
            "colorbar": {
             "outlinewidth": 0,
             "ticks": ""
            },
            "type": "mesh3d"
           }
          ],
          "parcoords": [
           {
            "line": {
             "colorbar": {
              "outlinewidth": 0,
              "ticks": ""
             }
            },
            "type": "parcoords"
           }
          ],
          "pie": [
           {
            "automargin": true,
            "type": "pie"
           }
          ],
          "scatter": [
           {
            "fillpattern": {
             "fillmode": "overlay",
             "size": 10,
             "solidity": 0.2
            },
            "type": "scatter"
           }
          ],
          "scatter3d": [
           {
            "line": {
             "colorbar": {
              "outlinewidth": 0,
              "ticks": ""
             }
            },
            "marker": {
             "colorbar": {
              "outlinewidth": 0,
              "ticks": ""
             }
            },
            "type": "scatter3d"
           }
          ],
          "scattercarpet": [
           {
            "marker": {
             "colorbar": {
              "outlinewidth": 0,
              "ticks": ""
             }
            },
            "type": "scattercarpet"
           }
          ],
          "scattergeo": [
           {
            "marker": {
             "colorbar": {
              "outlinewidth": 0,
              "ticks": ""
             }
            },
            "type": "scattergeo"
           }
          ],
          "scattergl": [
           {
            "marker": {
             "colorbar": {
              "outlinewidth": 0,
              "ticks": ""
             }
            },
            "type": "scattergl"
           }
          ],
          "scattermapbox": [
           {
            "marker": {
             "colorbar": {
              "outlinewidth": 0,
              "ticks": ""
             }
            },
            "type": "scattermapbox"
           }
          ],
          "scatterpolar": [
           {
            "marker": {
             "colorbar": {
              "outlinewidth": 0,
              "ticks": ""
             }
            },
            "type": "scatterpolar"
           }
          ],
          "scatterpolargl": [
           {
            "marker": {
             "colorbar": {
              "outlinewidth": 0,
              "ticks": ""
             }
            },
            "type": "scatterpolargl"
           }
          ],
          "scatterternary": [
           {
            "marker": {
             "colorbar": {
              "outlinewidth": 0,
              "ticks": ""
             }
            },
            "type": "scatterternary"
           }
          ],
          "surface": [
           {
            "colorbar": {
             "outlinewidth": 0,
             "ticks": ""
            },
            "colorscale": [
             [
              0,
              "#0d0887"
             ],
             [
              0.1111111111111111,
              "#46039f"
             ],
             [
              0.2222222222222222,
              "#7201a8"
             ],
             [
              0.3333333333333333,
              "#9c179e"
             ],
             [
              0.4444444444444444,
              "#bd3786"
             ],
             [
              0.5555555555555556,
              "#d8576b"
             ],
             [
              0.6666666666666666,
              "#ed7953"
             ],
             [
              0.7777777777777778,
              "#fb9f3a"
             ],
             [
              0.8888888888888888,
              "#fdca26"
             ],
             [
              1,
              "#f0f921"
             ]
            ],
            "type": "surface"
           }
          ],
          "table": [
           {
            "cells": {
             "fill": {
              "color": "#EBF0F8"
             },
             "line": {
              "color": "white"
             }
            },
            "header": {
             "fill": {
              "color": "#C8D4E3"
             },
             "line": {
              "color": "white"
             }
            },
            "type": "table"
           }
          ]
         },
         "layout": {
          "annotationdefaults": {
           "arrowcolor": "#2a3f5f",
           "arrowhead": 0,
           "arrowwidth": 1
          },
          "autotypenumbers": "strict",
          "coloraxis": {
           "colorbar": {
            "outlinewidth": 0,
            "ticks": ""
           }
          },
          "colorscale": {
           "diverging": [
            [
             0,
             "#8e0152"
            ],
            [
             0.1,
             "#c51b7d"
            ],
            [
             0.2,
             "#de77ae"
            ],
            [
             0.3,
             "#f1b6da"
            ],
            [
             0.4,
             "#fde0ef"
            ],
            [
             0.5,
             "#f7f7f7"
            ],
            [
             0.6,
             "#e6f5d0"
            ],
            [
             0.7,
             "#b8e186"
            ],
            [
             0.8,
             "#7fbc41"
            ],
            [
             0.9,
             "#4d9221"
            ],
            [
             1,
             "#276419"
            ]
           ],
           "sequential": [
            [
             0,
             "#0d0887"
            ],
            [
             0.1111111111111111,
             "#46039f"
            ],
            [
             0.2222222222222222,
             "#7201a8"
            ],
            [
             0.3333333333333333,
             "#9c179e"
            ],
            [
             0.4444444444444444,
             "#bd3786"
            ],
            [
             0.5555555555555556,
             "#d8576b"
            ],
            [
             0.6666666666666666,
             "#ed7953"
            ],
            [
             0.7777777777777778,
             "#fb9f3a"
            ],
            [
             0.8888888888888888,
             "#fdca26"
            ],
            [
             1,
             "#f0f921"
            ]
           ],
           "sequentialminus": [
            [
             0,
             "#0d0887"
            ],
            [
             0.1111111111111111,
             "#46039f"
            ],
            [
             0.2222222222222222,
             "#7201a8"
            ],
            [
             0.3333333333333333,
             "#9c179e"
            ],
            [
             0.4444444444444444,
             "#bd3786"
            ],
            [
             0.5555555555555556,
             "#d8576b"
            ],
            [
             0.6666666666666666,
             "#ed7953"
            ],
            [
             0.7777777777777778,
             "#fb9f3a"
            ],
            [
             0.8888888888888888,
             "#fdca26"
            ],
            [
             1,
             "#f0f921"
            ]
           ]
          },
          "colorway": [
           "#636efa",
           "#EF553B",
           "#00cc96",
           "#ab63fa",
           "#FFA15A",
           "#19d3f3",
           "#FF6692",
           "#B6E880",
           "#FF97FF",
           "#FECB52"
          ],
          "font": {
           "color": "#2a3f5f"
          },
          "geo": {
           "bgcolor": "white",
           "lakecolor": "white",
           "landcolor": "#E5ECF6",
           "showlakes": true,
           "showland": true,
           "subunitcolor": "white"
          },
          "hoverlabel": {
           "align": "left"
          },
          "hovermode": "closest",
          "mapbox": {
           "style": "light"
          },
          "paper_bgcolor": "white",
          "plot_bgcolor": "#E5ECF6",
          "polar": {
           "angularaxis": {
            "gridcolor": "white",
            "linecolor": "white",
            "ticks": ""
           },
           "bgcolor": "#E5ECF6",
           "radialaxis": {
            "gridcolor": "white",
            "linecolor": "white",
            "ticks": ""
           }
          },
          "scene": {
           "xaxis": {
            "backgroundcolor": "#E5ECF6",
            "gridcolor": "white",
            "gridwidth": 2,
            "linecolor": "white",
            "showbackground": true,
            "ticks": "",
            "zerolinecolor": "white"
           },
           "yaxis": {
            "backgroundcolor": "#E5ECF6",
            "gridcolor": "white",
            "gridwidth": 2,
            "linecolor": "white",
            "showbackground": true,
            "ticks": "",
            "zerolinecolor": "white"
           },
           "zaxis": {
            "backgroundcolor": "#E5ECF6",
            "gridcolor": "white",
            "gridwidth": 2,
            "linecolor": "white",
            "showbackground": true,
            "ticks": "",
            "zerolinecolor": "white"
           }
          },
          "shapedefaults": {
           "line": {
            "color": "#2a3f5f"
           }
          },
          "ternary": {
           "aaxis": {
            "gridcolor": "white",
            "linecolor": "white",
            "ticks": ""
           },
           "baxis": {
            "gridcolor": "white",
            "linecolor": "white",
            "ticks": ""
           },
           "bgcolor": "#E5ECF6",
           "caxis": {
            "gridcolor": "white",
            "linecolor": "white",
            "ticks": ""
           }
          },
          "title": {
           "x": 0.05
          },
          "xaxis": {
           "automargin": true,
           "gridcolor": "white",
           "linecolor": "white",
           "ticks": "",
           "title": {
            "standoff": 15
           },
           "zerolinecolor": "white",
           "zerolinewidth": 2
          },
          "yaxis": {
           "automargin": true,
           "gridcolor": "white",
           "linecolor": "white",
           "ticks": "",
           "title": {
            "standoff": 15
           },
           "zerolinecolor": "white",
           "zerolinewidth": 2
          }
         }
        },
        "title": {
         "text": "Bijdragen per Jaar in EUR"
        },
        "width": 1300,
        "xaxis": {
         "range": [
          1999,
          2045
         ],
         "tickvals": [
          2000,
          2005,
          2010,
          2015,
          2020,
          2025,
          2030,
          2035,
          2040,
          2045
         ],
         "title": {
          "text": "Jaar"
         },
         "type": "linear"
        },
        "yaxis": {
         "autorange": true,
         "range": [
          75172.55713089647,
          143692.06286910354
         ],
         "ticktext": [
          "0k",
          "20k",
          "40k",
          "60k",
          "80k",
          "100k",
          "120k",
          "140k",
          "160k",
          "180k",
          "200k",
          "220k",
          "240k",
          "260k",
          "280k",
          "300k",
          "320k",
          "340k"
         ],
         "tickvals": [
          0,
          20000,
          40000,
          60000,
          80000,
          100000,
          120000,
          140000,
          160000,
          180000,
          200000,
          220000,
          240000,
          260000,
          280000,
          300000,
          320000,
          340000
         ],
         "title": {
          "text": "Bijdragen"
         },
         "type": "linear"
        }
       }
      },
      "image/png": "[encoded data removed]",
      "text/html": [
       "<div>                            <div id=\"0bccfea6-855e-4cf7-8ff5-2ca895003d6c\" class=\"plotly-graph-div\" style=\"height:525px; width:1300px;\"></div>            <script type=\"text/javascript\">                require([\"plotly\"], function(Plotly) {                    window.PLOTLYENV=window.PLOTLYENV || {};                                    if (document.getElementById(\"0bccfea6-855e-4cf7-8ff5-2ca895003d6c\")) {                    Plotly.newPlot(                        \"0bccfea6-855e-4cf7-8ff5-2ca895003d6c\",                        [{\"hovertemplate\":\"%{y:,.0f} EUR\\u003cextra\\u003e\\u003c\\u002fextra\\u003e\",\"line\":{\"color\":\"blue\",\"width\":2},\"marker\":{\"color\":\"blue\",\"size\":5},\"mode\":\"lines+markers\",\"name\":\"Bijdragen\\u002fJ\",\"x\":[2000,2001,2002,2003,2004,2005,2006,2007,2008,2009,2010,2011,2012,2013,2014,2015,2016,2017,2018,2019,2020,2021,2022,2023,2024,2025,2026,2027,2028,2029,2030,2031,2032,2033,2034],\"y\":[79366.0,80693.49,82043.18,83415.44,84810.66,86229.21,87671.49,89137.9,90628.83,92144.7,93685.92,95252.92,96846.13,98466.0,100112.95,101787.45,103489.96,105220.95,106980.89,108770.26,110589.57,112439.3,114319.98,116232.11,118176.22,120152.85,122162.54,124205.85,126283.33,128395.56,130543.12,132726.6,134946.6,137203.74,139498.62],\"type\":\"scatter\"}],                        {\"template\":{\"data\":{\"histogram2dcontour\":[{\"type\":\"histogram2dcontour\",\"colorbar\":{\"outlinewidth\":0,\"ticks\":\"\"},\"colorscale\":[[0.0,\"#0d0887\"],[0.1111111111111111,\"#46039f\"],[0.2222222222222222,\"#7201a8\"],[0.3333333333333333,\"#9c179e\"],[0.4444444444444444,\"#bd3786\"],[0.5555555555555556,\"#d8576b\"],[0.6666666666666666,\"#ed7953\"],[0.7777777777777778,\"#fb9f3a\"],[0.8888888888888888,\"#fdca26\"],[1.0,\"#f0f921\"]]}],\"choropleth\":[{\"type\":\"choropleth\",\"colorbar\":{\"outlinewidth\":0,\"ticks\":\"\"}}],\"histogram2d\":[{\"type\":\"histogram2d\",\"colorbar\":{\"outlinewidth\":0,\"ticks\":\"\"},\"colorscale\":[[0.0,\"#0d0887\"],[0.1111111111111111,\"#46039f\"],[0.2222222222222222,\"#7201a8\"],[0.3333333333333333,\"#9c179e\"],[0.4444444444444444,\"#bd3786\"],[0.5555555555555556,\"#d8576b\"],[0.6666666666666666,\"#ed7953\"],[0.7777777777777778,\"#fb9f3a\"],[0.8888888888888888,\"#fdca26\"],[1.0,\"#f0f921\"]]}],\"heatmap\":[{\"type\":\"heatmap\",\"colorbar\":{\"outlinewidth\":0,\"ticks\":\"\"},\"colorscale\":[[0.0,\"#0d0887\"],[0.1111111111111111,\"#46039f\"],[0.2222222222222222,\"#7201a8\"],[0.3333333333333333,\"#9c179e\"],[0.4444444444444444,\"#bd3786\"],[0.5555555555555556,\"#d8576b\"],[0.6666666666666666,\"#ed7953\"],[0.7777777777777778,\"#fb9f3a\"],[0.8888888888888888,\"#fdca26\"],[1.0,\"#f0f921\"]]}],\"heatmapgl\":[{\"type\":\"heatmapgl\",\"colorbar\":{\"outlinewidth\":0,\"ticks\":\"\"},\"colorscale\":[[0.0,\"#0d0887\"],[0.1111111111111111,\"#46039f\"],[0.2222222222222222,\"#7201a8\"],[0.3333333333333333,\"#9c179e\"],[0.4444444444444444,\"#bd3786\"],[0.5555555555555556,\"#d8576b\"],[0.6666666666666666,\"#ed7953\"],[0.7777777777777778,\"#fb9f3a\"],[0.8888888888888888,\"#fdca26\"],[1.0,\"#f0f921\"]]}],\"contourcarpet\":[{\"type\":\"contourcarpet\",\"colorbar\":{\"outlinewidth\":0,\"ticks\":\"\"}}],\"contour\":[{\"type\":\"contour\",\"colorbar\":{\"outlinewidth\":0,\"ticks\":\"\"},\"colorscale\":[[0.0,\"#0d0887\"],[0.1111111111111111,\"#46039f\"],[0.2222222222222222,\"#7201a8\"],[0.3333333333333333,\"#9c179e\"],[0.4444444444444444,\"#bd3786\"],[0.5555555555555556,\"#d8576b\"],[0.6666666666666666,\"#ed7953\"],[0.7777777777777778,\"#fb9f3a\"],[0.8888888888888888,\"#fdca26\"],[1.0,\"#f0f921\"]]}],\"surface\":[{\"type\":\"surface\",\"colorbar\":{\"outlinewidth\":0,\"ticks\":\"\"},\"colorscale\":[[0.0,\"#0d0887\"],[0.1111111111111111,\"#46039f\"],[0.2222222222222222,\"#7201a8\"],[0.3333333333333333,\"#9c179e\"],[0.4444444444444444,\"#bd3786\"],[0.5555555555555556,\"#d8576b\"],[0.6666666666666666,\"#ed7953\"],[0.7777777777777778,\"#fb9f3a\"],[0.8888888888888888,\"#fdca26\"],[1.0,\"#f0f921\"]]}],\"mesh3d\":[{\"type\":\"mesh3d\",\"colorbar\":{\"outlinewidth\":0,\"ticks\":\"\"}}],\"scatter\":[{\"fillpattern\":{\"fillmode\":\"overlay\",\"size\":10,\"solidity\":0.2},\"type\":\"scatter\"}],\"parcoords\":[{\"type\":\"parcoords\",\"line\":{\"colorbar\":{\"outlinewidth\":0,\"ticks\":\"\"}}}],\"scatterpolargl\":[{\"type\":\"scatterpolargl\",\"marker\":{\"colorbar\":{\"outlinewidth\":0,\"ticks\":\"\"}}}],\"bar\":[{\"error_x\":{\"color\":\"#2a3f5f\"},\"error_y\":{\"color\":\"#2a3f5f\"},\"marker\":{\"line\":{\"color\":\"#E5ECF6\",\"width\":0.5},\"pattern\":{\"fillmode\":\"overlay\",\"size\":10,\"solidity\":0.2}},\"type\":\"bar\"}],\"scattergeo\":[{\"type\":\"scattergeo\",\"marker\":{\"colorbar\":{\"outlinewidth\":0,\"ticks\":\"\"}}}],\"scatterpolar\":[{\"type\":\"scatterpolar\",\"marker\":{\"colorbar\":{\"outlinewidth\":0,\"ticks\":\"\"}}}],\"histogram\":[{\"marker\":{\"pattern\":{\"fillmode\":\"overlay\",\"size\":10,\"solidity\":0.2}},\"type\":\"histogram\"}],\"scattergl\":[{\"type\":\"scattergl\",\"marker\":{\"colorbar\":{\"outlinewidth\":0,\"ticks\":\"\"}}}],\"scatter3d\":[{\"type\":\"scatter3d\",\"line\":{\"colorbar\":{\"outlinewidth\":0,\"ticks\":\"\"}},\"marker\":{\"colorbar\":{\"outlinewidth\":0,\"ticks\":\"\"}}}],\"scattermapbox\":[{\"type\":\"scattermapbox\",\"marker\":{\"colorbar\":{\"outlinewidth\":0,\"ticks\":\"\"}}}],\"scatterternary\":[{\"type\":\"scatterternary\",\"marker\":{\"colorbar\":{\"outlinewidth\":0,\"ticks\":\"\"}}}],\"scattercarpet\":[{\"type\":\"scattercarpet\",\"marker\":{\"colorbar\":{\"outlinewidth\":0,\"ticks\":\"\"}}}],\"carpet\":[{\"aaxis\":{\"endlinecolor\":\"#2a3f5f\",\"gridcolor\":\"white\",\"linecolor\":\"white\",\"minorgridcolor\":\"white\",\"startlinecolor\":\"#2a3f5f\"},\"baxis\":{\"endlinecolor\":\"#2a3f5f\",\"gridcolor\":\"white\",\"linecolor\":\"white\",\"minorgridcolor\":\"white\",\"startlinecolor\":\"#2a3f5f\"},\"type\":\"carpet\"}],\"table\":[{\"cells\":{\"fill\":{\"color\":\"#EBF0F8\"},\"line\":{\"color\":\"white\"}},\"header\":{\"fill\":{\"color\":\"#C8D4E3\"},\"line\":{\"color\":\"white\"}},\"type\":\"table\"}],\"barpolar\":[{\"marker\":{\"line\":{\"color\":\"#E5ECF6\",\"width\":0.5},\"pattern\":{\"fillmode\":\"overlay\",\"size\":10,\"solidity\":0.2}},\"type\":\"barpolar\"}],\"pie\":[{\"automargin\":true,\"type\":\"pie\"}]},\"layout\":{\"autotypenumbers\":\"strict\",\"colorway\":[\"#636efa\",\"#EF553B\",\"#00cc96\",\"#ab63fa\",\"#FFA15A\",\"#19d3f3\",\"#FF6692\",\"#B6E880\",\"#FF97FF\",\"#FECB52\"],\"font\":{\"color\":\"#2a3f5f\"},\"hovermode\":\"closest\",\"hoverlabel\":{\"align\":\"left\"},\"paper_bgcolor\":\"white\",\"plot_bgcolor\":\"#E5ECF6\",\"polar\":{\"bgcolor\":\"#E5ECF6\",\"angularaxis\":{\"gridcolor\":\"white\",\"linecolor\":\"white\",\"ticks\":\"\"},\"radialaxis\":{\"gridcolor\":\"white\",\"linecolor\":\"white\",\"ticks\":\"\"}},\"ternary\":{\"bgcolor\":\"#E5ECF6\",\"aaxis\":{\"gridcolor\":\"white\",\"linecolor\":\"white\",\"ticks\":\"\"},\"baxis\":{\"gridcolor\":\"white\",\"linecolor\":\"white\",\"ticks\":\"\"},\"caxis\":{\"gridcolor\":\"white\",\"linecolor\":\"white\",\"ticks\":\"\"}},\"coloraxis\":{\"colorbar\":{\"outlinewidth\":0,\"ticks\":\"\"}},\"colorscale\":{\"sequential\":[[0.0,\"#0d0887\"],[0.1111111111111111,\"#46039f\"],[0.2222222222222222,\"#7201a8\"],[0.3333333333333333,\"#9c179e\"],[0.4444444444444444,\"#bd3786\"],[0.5555555555555556,\"#d8576b\"],[0.6666666666666666,\"#ed7953\"],[0.7777777777777778,\"#fb9f3a\"],[0.8888888888888888,\"#fdca26\"],[1.0,\"#f0f921\"]],\"sequentialminus\":[[0.0,\"#0d0887\"],[0.1111111111111111,\"#46039f\"],[0.2222222222222222,\"#7201a8\"],[0.3333333333333333,\"#9c179e\"],[0.4444444444444444,\"#bd3786\"],[0.5555555555555556,\"#d8576b\"],[0.6666666666666666,\"#ed7953\"],[0.7777777777777778,\"#fb9f3a\"],[0.8888888888888888,\"#fdca26\"],[1.0,\"#f0f921\"]],\"diverging\":[[0,\"#8e0152\"],[0.1,\"#c51b7d\"],[0.2,\"#de77ae\"],[0.3,\"#f1b6da\"],[0.4,\"#fde0ef\"],[0.5,\"#f7f7f7\"],[0.6,\"#e6f5d0\"],[0.7,\"#b8e186\"],[0.8,\"#7fbc41\"],[0.9,\"#4d9221\"],[1,\"#276419\"]]},\"xaxis\":{\"gridcolor\":\"white\",\"linecolor\":\"white\",\"ticks\":\"\",\"title\":{\"standoff\":15},\"zerolinecolor\":\"white\",\"automargin\":true,\"zerolinewidth\":2},\"yaxis\":{\"gridcolor\":\"white\",\"linecolor\":\"white\",\"ticks\":\"\",\"title\":{\"standoff\":15},\"zerolinecolor\":\"white\",\"automargin\":true,\"zerolinewidth\":2},\"scene\":{\"xaxis\":{\"backgroundcolor\":\"#E5ECF6\",\"gridcolor\":\"white\",\"linecolor\":\"white\",\"showbackground\":true,\"ticks\":\"\",\"zerolinecolor\":\"white\",\"gridwidth\":2},\"yaxis\":{\"backgroundcolor\":\"#E5ECF6\",\"gridcolor\":\"white\",\"linecolor\":\"white\",\"showbackground\":true,\"ticks\":\"\",\"zerolinecolor\":\"white\",\"gridwidth\":2},\"zaxis\":{\"backgroundcolor\":\"#E5ECF6\",\"gridcolor\":\"white\",\"linecolor\":\"white\",\"showbackground\":true,\"ticks\":\"\",\"zerolinecolor\":\"white\",\"gridwidth\":2}},\"shapedefaults\":{\"line\":{\"color\":\"#2a3f5f\"}},\"annotationdefaults\":{\"arrowcolor\":\"#2a3f5f\",\"arrowhead\":0,\"arrowwidth\":1},\"geo\":{\"bgcolor\":\"white\",\"landcolor\":\"#E5ECF6\",\"subunitcolor\":\"white\",\"showland\":true,\"showlakes\":true,\"lakecolor\":\"white\"},\"title\":{\"x\":0.05},\"mapbox\":{\"style\":\"light\"}}},\"xaxis\":{\"title\":{\"text\":\"Jaar\"},\"tickvals\":[2000,2005,2010,2015,2020,2025,2030,2035,2040,2045],\"range\":[1999,2045]},\"yaxis\":{\"title\":{\"text\":\"Bijdragen\"},\"tickvals\":[0,20000,40000,60000,80000,100000,120000,140000,160000,180000,200000,220000,240000,260000,280000,300000,320000,340000],\"ticktext\":[\"0k\",\"20k\",\"40k\",\"60k\",\"80k\",\"100k\",\"120k\",\"140k\",\"160k\",\"180k\",\"200k\",\"220k\",\"240k\",\"260k\",\"280k\",\"300k\",\"320k\",\"340k\"]},\"margin\":{\"l\":10,\"r\":220,\"b\":0,\"t\":40},\"title\":{\"text\":\"Bijdragen per Jaar in EUR\"},\"plot_bgcolor\":\"#F9F9F9\",\"width\":1300,\"annotations\":[{\"bgcolor\":\"rgba(0,0,0,0)\",\"font\":{\"color\":\"#000000\",\"size\":12},\"showarrow\":false,\"text\":\"139,499 EUR\",\"x\":2038,\"xref\":\"x\",\"y\":139498.62,\"yref\":\"y\"}],\"hovermode\":\"x\"},                        {\"responsive\": true}                    ).then(function(){\n",
       "                            \n",
       "var gd = document.getElementById('0bccfea6-855e-4cf7-8ff5-2ca895003d6c');\n",
       "var x = new MutationObserver(function (mutations, observer) {{\n",
       "        var display = window.getComputedStyle(gd).display;\n",
       "        if (!display || display === 'none') {{\n",
       "            console.log([gd, 'removed!']);\n",
       "            Plotly.purge(gd);\n",
       "            observer.disconnect();\n",
       "        }}\n",
       "}});\n",
       "\n",
       "// Listen for the removal of the full notebook cells\n",
       "var notebookContainer = gd.closest('#notebook-container');\n",
       "if (notebookContainer) {{\n",
       "    x.observe(notebookContainer, {childList: true});\n",
       "}}\n",
       "\n",
       "// Listen for the clearing of the current output cell\n",
       "var outputEl = gd.closest('.output');\n",
       "if (outputEl) {{\n",
       "    x.observe(outputEl, {childList: true});\n",
       "}}\n",
       "\n",
       "                        })                };                });            </script>        </div>"
      ]
     },
     "metadata": {},
     "output_type": "display_data"
    },
    {
     "name": "stdin",
     "output_type": "stream",
     "text": [
      "data\\data901v.csv already exists. Do you want to overwrite it? (yes/no):  no\n"
     ]
    },
    {
     "name": "stdout",
     "output_type": "stream",
     "text": [
      "Data saved to: data\\data901v003.csv\n"
     ]
    },
    {
     "name": "stdin",
     "output_type": "stream",
     "text": [
      "data\\data901v.xlsx already exists. Do you want to overwrite it? (yes/no):  no\n"
     ]
    },
    {
     "name": "stdout",
     "output_type": "stream",
     "text": [
      "Data saved to: data\\data901v003.xlsx\n"
     ]
    }
   ],
   "source": [
    "import os\n",
    "import pandas as pd\n",
    "import plotly.graph_objects as go\n",
    "\n",
    "# create folders for images and data and requirements and setup and startup after setup\n",
    "if not os.path.exists(\"images\"):\n",
    "    os.mkdir(\"images\")\n",
    "if not os.path.exists(\"data\"):\n",
    "    os.mkdir(\"data\")\n",
    "if not os.path.exists(\"requirements\"):\n",
    "    os.mkdir(\"requirements\")\n",
    "if not os.path.exists(\"setup_start\"):\n",
    "    os.mkdir(\"etup_start\")\n",
    "\n",
    "# rest code continue\n",
    "def format_euro(amount):\n",
    "    \"\"\"Format number to Euro currency format.\"\"\"\n",
    "    return \"{:,.2f}\".format(amount).replace(\",\", \" \").replace(\".\", \",\")\n",
    "\n",
    "def get_new_filename(base_filename):\n",
    "    \"\"\"Get the filename, incrementing the trailing number if it exists.\"\"\"\n",
    "    if not os.path.exists(base_filename):\n",
    "        return base_filename\n",
    "\n",
    "    if input(f\"{base_filename} already exists. Do you want to overwrite it? (yes/no): \").lower() == 'yes':\n",
    "        return base_filename\n",
    "\n",
    "    file_parts = base_filename.split('.')\n",
    "    file_name = file_parts[0]\n",
    "    file_extension = file_parts[1]\n",
    "    \n",
    "    file_number = 1\n",
    "    if file_name[-3:].isdigit():\n",
    "        file_number = int(file_name[-3:])\n",
    "        \n",
    "    new_filename = f\"{file_name[:-3] if file_name[-3:].isdigit() else file_name}{str(file_number + 1).zfill(3)}.{file_extension}\"\n",
    "    while os.path.exists(new_filename):\n",
    "        file_number += 1\n",
    "        new_filename = f\"{file_name[:-3] if file_name[-3:].isdigit() else file_name}{str(file_number + 1).zfill(3)}.{file_extension}\"\n",
    "    \n",
    "    return new_filename\n",
    "# Calculate the compounding interest of 2000-2010 years' Bijdragen/J\n",
    "start_value = 79366.00\n",
    "end_value = 93685.92\n",
    "jaren = 2010 - 2000\n",
    "\n",
    "DY2010 = (end_value / start_value) ** (1/jaren) - 1\n",
    "\n",
    "print(f'The yearly increase rate (DY2010) from 2000 to 2010 is: {DY2010 * 100:.8f}%')\n",
    "\n",
    "# Define the range of years and the initial funding amount\n",
    "jaren = range(2000, 2035)\n",
    "start_funding = 79366.00\n",
    "DY2010 = 1 + (1.67261258/100)\n",
    "\n",
    "# Create a DataFrame upfront\n",
    "df = pd.DataFrame(index=jaren, columns=[\"Jaar\", \"Bijdragen/J\"])\n",
    "df[\"Jaar\"] = jaren\n",
    "\n",
    "# Calculate the funding amount for each year\n",
    "for year in df[\"Jaar\"]:\n",
    "    df.loc[year, \"Bijdragen/J\"] = format_euro(start_funding if year == 2000 else start_funding * DY2010)\n",
    "    if year != 2000:\n",
    "        start_funding *= DY2010\n",
    "\n",
    "# Print the data for the \"jaren\" 2000 to 2010\n",
    "print(df.loc[2000:2035])\n",
    "\n",
    "if not os.path.exists(\"images\"):\n",
    "    os.mkdir(\"images\")\n",
    "if not os.path.exists(\"data\"):\n",
    "    os.mkdir(\"data\")\n",
    "\n",
    "# ... [Your previous code for dataframe creation remains unchanged]\n",
    "\n",
    "# Extract the data for plotting\n",
    "jaar = df['Jaar']\n",
    "bijdragen = [float(val.replace(',', '.')) for val in df['Bijdragen/J'].str.replace(' ', '')]\n",
    "\n",
    "# Prompt user for y-axis tick interval\n",
    "while True:\n",
    "    try:\n",
    "        interval = int(input(\"Please set the y-axis tick interval (20000, 25000 or 500000): \"))\n",
    "        if interval in [20000, 25000, 50000]:\n",
    "            break\n",
    "        else:\n",
    "            print(\"Invalid value. Choose from 25000, 50000, or 100000.\")\n",
    "    except ValueError:\n",
    "        print(\"Please enter a valid number.\")\n",
    "\n",
    "# Prompt user for the plot width\n",
    "while True:\n",
    "    try:\n",
    "        width = int(input(\"Please set the plot width between 1000 and 2000: \"))\n",
    "        if 1000 <= width <= 2000:\n",
    "            break\n",
    "        else:\n",
    "            print(\"Invalid value. Please enter a value between 1000 and 2000.\")\n",
    "    except ValueError:\n",
    "        print(\"Please enter a valid number.\")\n",
    "\n",
    "tickvals = list(range(0, 350001, interval))\n",
    "ticktext = [f\"{val//1000}k\" for val in tickvals]\n",
    "\n",
    "# Create the plot\n",
    "fig = go.Figure()\n",
    "\n",
    "fig.add_trace(go.Scatter(x=jaar, y=bijdragen,\n",
    "                         mode='lines+markers',\n",
    "                         name='Bijdragen/J',\n",
    "                         marker=dict(color='blue', size=5),\n",
    "                         line=dict(color='blue', width=2),\n",
    "                         hovertemplate='%{y:,.0f} EUR<extra></extra>'\n",
    "                        ))\n",
    "\n",
    "# Add title and adjust the axes\n",
    "fig.update_layout(\n",
    "    title=\"Bijdragen per Jaar in EUR\",\n",
    "    xaxis_title=\"Jaar\",\n",
    "    xaxis=dict(tickvals=list(range(2000, 2046, 5)), range=[1999, 2045]),  # Steps of 5 for years\n",
    "    yaxis_title=\"Bijdragen\",\n",
    "    yaxis_tickvals=tickvals,\n",
    "    yaxis_ticktext=ticktext,\n",
    "    plot_bgcolor='#F9F9F9',\n",
    "    width=width,\n",
    "    margin=dict(l=10, r=220, b=0, t=40)  # Adjusted the margins\n",
    ")\n",
    "\n",
    "# Add the annotation for the last data point\n",
    "fig.add_annotation(\n",
    "    x=2038,  # Shift the annotation to the right to avoid overlap\n",
    "    y=bijdragen[-1],\n",
    "    xref=\"x\", \n",
    "    yref=\"y\",\n",
    "    text=f\"{bijdragen[-1]:,.0f} EUR\",\n",
    "    showarrow=False,\n",
    "    font=dict(\n",
    "        color=\"#000000\",\n",
    "        size=12\n",
    "    ),\n",
    "    bgcolor=\"rgba(0,0,0,0)\"  # Transparent background\n",
    ")\n",
    "\n",
    "# Enable vertical crosshair lines on hover\n",
    "fig.update_layout(hovermode=\"x\")\n",
    "\n",
    "fig.show()\n",
    "\n",
    "# save data to file \n",
    "def save_data_to_file(data, directory, base_filename, extension):\n",
    "    \"\"\"Saves the data to a file and returns the filename.\"\"\"\n",
    "    # Create the filename using the base_filename and extension\n",
    "    filename = os.path.join(directory, base_filename + extension)\n",
    "\n",
    "    # Check if the file exists, and if so, get a new filename\n",
    "    filename = get_new_filename(filename)\n",
    "\n",
    "    # Save the data to the file based on the extension\n",
    "    if extension == '.csv':\n",
    "        data.to_csv(filename, index=False)\n",
    "    elif extension == '.xlsx':\n",
    "        data.to_excel(filename, index=False)\n",
    "    else:\n",
    "        raise ValueError(f\"Unsupported file extension: {extension}\")\n",
    "\n",
    "    return filename\n",
    "\n",
    "\n",
    "# Save the plot in multiple formats\n",
    "fig.write_image(\"images/fig1.png\")\n",
    "fig.write_image(\"images/fig1.jpeg\")\n",
    "fig.write_image(\"images/fig1.svg\")\n",
    "fig.write_image(\"images/fig1.pdf\")\n",
    "\n",
    "\n",
    "# save data to dataf iles\n",
    "\n",
    "csv_filename = save_data_to_file(df, \"data\", \"data901v\", '.csv')\n",
    "print(f\"Data saved to: {csv_filename}\")\n",
    "\n",
    "xlsx_filename = save_data_to_file(df, \"data\", \"data901v\", '.xlsx')\n",
    "print(f\"Data saved to: {xlsx_filename}\")\n",
    "\n"
   ]
  },
  {
   "cell_type": "code",
   "execution_count": null,
   "id": "20572aa3-7c10-4791-b1db-7b98f8a71baf",
   "metadata": {},
   "outputs": [],
   "source": []
  },
  {
   "cell_type": "code",
   "execution_count": null,
   "id": "19e5caf4-de21-4db7-8e97-abf53ccaab9a",
   "metadata": {},
   "outputs": [],
   "source": []
  }
 ],
 "metadata": {
  "kernelspec": {
   "display_name": "Python 3 (ipykernel)",
   "language": "python",
   "name": "python3"
  },
  "language_info": {
   "codemirror_mode": {
    "name": "ipython",
    "version": 3
   },
   "file_extension": ".py",
   "mimetype": "text/x-python",
   "name": "python",
   "nbconvert_exporter": "python",
   "pygments_lexer": "ipython3",
   "version": "3.10.12"
  }
 },
 "nbformat": 4,
 "nbformat_minor": 5
}
